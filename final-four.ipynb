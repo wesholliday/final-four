{
 "cells": [
  {
   "cell_type": "markdown",
   "id": "d6a50c46",
   "metadata": {},
   "source": [
    "This notebook is supplementary material for the paper \"A simple Condorcet voting method for Final Four elections\" by Wesley H. Holliday (wesholliday@berkeley.edu).\n",
    "\n",
    "It contains code to generate (1) the percentages in Figure 1, (2) the percentages in Table 1, and (3) the estimated frequency of heavy top cycles referenced in Footnote 22. It also contains code to (4) verify the nonexistence of ties for the proposed voting method in real political elections from [PrefLib](https://preflib.simonrey.fr) (up to the end of 2024) and [Otis 2022](https://dataverse.harvard.edu/dataset.xhtml?persistentId=doi:10.7910/DVN/AMK8PJ)."
   ]
  },
  {
   "cell_type": "code",
   "execution_count": 1,
   "id": "0714f9cd",
   "metadata": {},
   "outputs": [],
   "source": [
    "#!pip3 install pref_voting\n",
    "\n",
    "import pref_voting\n",
    "\n",
    "from pref_voting.profiles import *\n",
    "from pref_voting.voting_methods import *\n",
    "from pref_voting.combined_methods import *\n",
    "from pref_voting.margin_based_methods import *\n",
    "\n",
    "from pref_voting.generate_profiles import generate_profile \n",
    "from pref_voting.generate_weighted_majority_graphs import generate_edge_ordered_tournament_infinite_limit\n",
    "\n",
    "from tqdm.notebook import tqdm\n",
    "\n",
    "import glob\n",
    "from zipfile import ZipFile\n",
    "import io"
   ]
  },
  {
   "cell_type": "code",
   "execution_count": null,
   "id": "b349d89c",
   "metadata": {},
   "outputs": [],
   "source": [
    "print(pref_voting.__version__)"
   ]
  },
  {
   "cell_type": "markdown",
   "id": "e8131914",
   "metadata": {},
   "source": [
    "# 1. Figure 1 percentages\n",
    "\n",
    "First we create networkx digraphs for the four tournament isomorphism types."
   ]
  },
  {
   "cell_type": "code",
   "execution_count": null,
   "id": "5196607d",
   "metadata": {},
   "outputs": [],
   "source": [
    "linear_order = nx.DiGraph()\n",
    "linear_order.add_nodes_from(range(4))\n",
    "linear_order.add_edges_from([(0,1),(0,2), (0,3), (1,2), (1,3), (2,3)]) \n",
    "\n",
    "print(\"Linear order:\")\n",
    "pos = nx.spring_layout(linear_order)\n",
    "nx.draw(linear_order, pos, with_labels=True, node_size=1000)"
   ]
  },
  {
   "cell_type": "code",
   "execution_count": null,
   "id": "1c95879d",
   "metadata": {},
   "outputs": [],
   "source": [
    "bottom_cycle = nx.DiGraph()\n",
    "bottom_cycle.add_nodes_from(range(4))\n",
    "bottom_cycle.add_edges_from([(0,1),(0,2), (0,3), (1,2), (2,3), (3,1)])\n",
    "\n",
    "print(\"Bottom cycle:\")\n",
    "pos = nx.spring_layout(bottom_cycle)\n",
    "nx.draw(bottom_cycle, pos, with_labels=True, node_size=1000)"
   ]
  },
  {
   "cell_type": "code",
   "execution_count": null,
   "id": "585077ef",
   "metadata": {},
   "outputs": [],
   "source": [
    "top_cycle = nx.DiGraph()\n",
    "top_cycle.add_nodes_from(range(4))\n",
    "top_cycle.add_edges_from([(0,1),(1,2), (2,0), (0,3), (1,3), (2,3)])\n",
    "\n",
    "print(\"Top cycle:\")\n",
    "pos = nx.spring_layout(top_cycle)\n",
    "nx.draw(top_cycle, pos, with_labels=True, node_size=1000)"
   ]
  },
  {
   "cell_type": "code",
   "execution_count": null,
   "id": "0d9d0093",
   "metadata": {},
   "outputs": [],
   "source": [
    "four_cycle = nx.DiGraph()\n",
    "four_cycle.add_nodes_from(range(4))\n",
    "four_cycle.add_edges_from([(0,1),(1,2), (2,3), (3,0), (2,0), (1,3)])\n",
    "\n",
    "print(\"Four cycle:\")\n",
    "pos = nx.spring_layout(four_cycle)\n",
    "nx.draw(four_cycle, pos, with_labels=True, node_size=1000)"
   ]
  },
  {
   "cell_type": "code",
   "execution_count": null,
   "id": "b4fdea92",
   "metadata": {},
   "outputs": [],
   "source": [
    "num_trials = 100_000_000\n",
    "\n",
    "linear_order_count = 0\n",
    "bottom_cycle_count = 0\n",
    "ascending_top_cycle_count = 0\n",
    "descending_top_cycle_count = 0\n",
    "SL_four_cycle_count = 0\n",
    "LS_four_cycle_count = 0\n",
    "\n",
    "for n in tqdm(range(num_trials)):\n",
    "\n",
    "    mg = generate_edge_ordered_tournament_infinite_limit(4)\n",
    "\n",
    "    # Extract the underlying directed graph from mg\n",
    "    g = nx.DiGraph()\n",
    "    g.add_nodes_from(range(4))\n",
    "    directed_edges = [(a,b) for (a,b,c) in mg.edges]\n",
    "    g.add_edges_from(directed_edges)\n",
    "\n",
    "    # Find the appropriate isomorphism type\n",
    "    if nx.is_isomorphic(g, linear_order):\n",
    "        linear_order_count += 1\n",
    "\n",
    "    if nx.is_isomorphic(g, bottom_cycle):\n",
    "        bottom_cycle_count += 1\n",
    "\n",
    "    if nx.is_isomorphic(g, top_cycle):\n",
    "\n",
    "        top_cycle_cands = copeland(mg)\n",
    "        assert len(top_cycle_cands) == 3\n",
    "\n",
    "        # Find the candidate in the top cycle with the largest win\n",
    "        max_margin_in_top_cycle = max([mg.margin(c1, c2) for c1 in top_cycle_cands for c2 in top_cycle_cands if c1 != c2])\n",
    "        top_cycle_cands_with_largest_win = [c for c in top_cycle_cands if max([mg.margin(c, c2) for c2 in top_cycle_cands]) == max_margin_in_top_cycle]\n",
    "        assert len(top_cycle_cands_with_largest_win) == 1\n",
    "        top_cycle_cand_with_largest_win = top_cycle_cands_with_largest_win[0]\n",
    "\n",
    "        # Find the candidate in the top cycle with the smallest loss\n",
    "        min_pos_margin_in_top_cycle = min([mg.margin(c1, c2) for c1 in top_cycle_cands for c2 in top_cycle_cands if mg.margin(c1,c2) > 0])\n",
    "        top_cycle_cands_with_smallest_loss = [c for c in top_cycle_cands if min([mg.margin(c2, c) for c2 in top_cycle_cands if mg.margin(c2,c) > 0]) == min_pos_margin_in_top_cycle]\n",
    "        assert len(top_cycle_cands_with_smallest_loss) == 1\n",
    "        top_cycle_cand_with_smallest_loss = top_cycle_cands_with_smallest_loss[0]\n",
    "\n",
    "        if top_cycle_cand_with_smallest_loss != top_cycle_cand_with_largest_win:\n",
    "            ascending_top_cycle_count += 1\n",
    "\n",
    "        if top_cycle_cand_with_smallest_loss == top_cycle_cand_with_largest_win:\n",
    "            descending_top_cycle_count += 1\n",
    "\n",
    "    if nx.is_isomorphic(g, four_cycle):\n",
    "        \n",
    "        copeland_winners = copeland(mg)\n",
    "        assert len(copeland_winners) == 2\n",
    "        margin_between_copeland_winners = max([mg.margin(c1, c2) for c1 in copeland_winners for c2 in copeland_winners]) \n",
    "        margin_of_non_copeland_over_copeland = max([mg.margin(c, c2) for c in mg.candidates if c not in copeland_winners for c2 in copeland_winners])\n",
    "\n",
    "        if margin_of_non_copeland_over_copeland < margin_between_copeland_winners:\n",
    "            SL_four_cycle_count += 1\n",
    "\n",
    "        if margin_of_non_copeland_over_copeland > margin_between_copeland_winners:\n",
    "            LS_four_cycle_count += 1\n",
    "\n",
    "print(\"Linear order:\", (linear_order_count / num_trials) * 100, \"%\")\n",
    "print(\"Bottom cycle:\", (bottom_cycle_count / num_trials) * 100, \"%\")\n",
    "print(\"Ascending top cycle:\", (ascending_top_cycle_count / num_trials) * 100, \"%\")\n",
    "print(\"Descending top cycle:\", (descending_top_cycle_count / num_trials) * 100, \"%\")\n",
    "print(\"SL four cycle:\", (SL_four_cycle_count / num_trials) * 100, \"%\")\n",
    "print(\"LS four cycle:\", (LS_four_cycle_count / num_trials) * 100, \"%\")"
   ]
  },
  {
   "cell_type": "markdown",
   "id": "15422760",
   "metadata": {},
   "source": [
    "# 2. Table 1: frequency of disagreement with other methods"
   ]
  },
  {
   "cell_type": "code",
   "execution_count": 8,
   "id": "6221dc27",
   "metadata": {},
   "outputs": [],
   "source": [
    "@vm(name = \"Proposed Method\")\n",
    "def proposed_method(edata, curr_cands = None):\n",
    "\n",
    "    copeland_winners = copeland(edata)\n",
    "\n",
    "    worst_loss = dict()\n",
    "\n",
    "    for c in copeland_winners:\n",
    "        worst_loss[c] = max([edata.margin(c2, c) for c2 in edata.candidates])\n",
    "\n",
    "    smallest_worst_loss = min(worst_loss.values())\n",
    "    copeland_winners_with_smallest_worst_loss = [c for c in copeland_winners if worst_loss[c] == smallest_worst_loss]\n",
    "\n",
    "    return copeland_winners_with_smallest_worst_loss"
   ]
  },
  {
   "cell_type": "code",
   "execution_count": null,
   "id": "2fd587e0",
   "metadata": {},
   "outputs": [],
   "source": [
    "num_trials = 10_000_000\n",
    "\n",
    "num_diff_with_rp = 0\n",
    "num_diff_with_mm = 0\n",
    "num_diff_with_smm = 0\n",
    "num_diff_with_bp = 0\n",
    "num_diff_with_sv = 0\n",
    "num_diff_with_rv = 0\n",
    "num_diff_with_km = 0\n",
    "\n",
    "for n in tqdm(range(num_trials)):\n",
    "\n",
    "    mg = generate_edge_ordered_tournament_infinite_limit(4)\n",
    "\n",
    "    pm = proposed_method(mg)\n",
    "    rp = ranked_pairs(mg)\n",
    "    mm = minimax(mg)\n",
    "    smm = smith_minimax(mg)\n",
    "    bp = beat_path(mg)\n",
    "    sv = stable_voting(mg)\n",
    "    rv = river(mg)\n",
    "\n",
    "    if pm != rp:\n",
    "        num_diff_with_rp += 1\n",
    "\n",
    "    if pm != mm:\n",
    "        num_diff_with_mm += 1\n",
    "\n",
    "    if pm != smm:\n",
    "        num_diff_with_smm += 1\n",
    "\n",
    "    if pm != bp:\n",
    "        num_diff_with_bp += 1\n",
    "\n",
    "    if pm != sv:\n",
    "        num_diff_with_sv += 1\n",
    "\n",
    "    if pm != rv:\n",
    "        num_diff_with_rv += 1\n",
    "\n",
    "print(\"Frequency of disagreement with Beat Path:\", (num_diff_with_bp / num_trials) * 100, \"%\")\n",
    "print(\"Frequency of disagreement with Minimax:\", (num_diff_with_mm / num_trials) * 100, \"%\")\n",
    "print(\"Frequency of disagreement with Ranked Pairs:\", (num_diff_with_rp / num_trials) * 100, \"%\")\n",
    "print(\"Frequency of disagreement with River:\", (num_diff_with_rv / num_trials) * 100, \"%\")\n",
    "print(\"Frequency of disagreement with Smith Minimax:\", (num_diff_with_smm / num_trials) * 100, \"%\")\n",
    "print(\"Frequency of disagreement with Stable Voting:\", (num_diff_with_sv / num_trials) * 100, \"%\")"
   ]
  },
  {
   "cell_type": "code",
   "execution_count": null,
   "id": "5f23b64e",
   "metadata": {},
   "outputs": [],
   "source": [
    "num_trials = 100_000\n",
    "num_diff_with_irv = 0\n",
    "\n",
    "for n in tqdm(range(num_trials)):\n",
    "    prof = generate_profile(4, 1000)\n",
    "\n",
    "    if proposed_method(prof) != instant_runoff(prof):\n",
    "        num_diff_with_irv += 1\n",
    "\n",
    "print(\"Frequency of disagreement with IRV:\", (num_diff_with_irv / num_trials) * 100, \"%\")"
   ]
  },
  {
   "cell_type": "markdown",
   "id": "74a67265",
   "metadata": {},
   "source": [
    "# 3. Footnote 27: frequency of heavy top cycles"
   ]
  },
  {
   "cell_type": "code",
   "execution_count": null,
   "id": "0a947cbe",
   "metadata": {},
   "outputs": [],
   "source": [
    "num_trials = 10_000_000\n",
    "\n",
    "heavy_top_cycle = 0\n",
    "\n",
    "for n in tqdm(range(num_trials)):\n",
    "    mg = generate_edge_ordered_tournament_infinite_limit(4)\n",
    "    \n",
    "    mm = minimax(mg)[0]\n",
    "    if mg.copeland_scores()[mm] == -3:\n",
    "        heavy_top_cycle += 1\n",
    "\n",
    "print(\"Heavy top cycle:\", (heavy_top_cycle / num_trials) * 100, \"%\")"
   ]
  },
  {
   "cell_type": "markdown",
   "id": "c93b967a",
   "metadata": {},
   "source": [
    "# 4. Nonexistence of ties in real elections"
   ]
  },
  {
   "cell_type": "markdown",
   "id": "9928641a",
   "metadata": {},
   "source": [
    "### PrefLib political elections (up to end of 2024)"
   ]
  },
  {
   "cell_type": "code",
   "execution_count": null,
   "id": "f51b7152",
   "metadata": {},
   "outputs": [],
   "source": [
    "profiles = []\n",
    "elections = []\n",
    "\n",
    "for fname in tqdm(glob.glob(\"real_elections/preflib_dataset/*.soi\")):\n",
    "\n",
    "    election_name = fname.split(\"/\")[-1].split(\".\")[0]\n",
    "\n",
    "    if election_name in elections: \n",
    "        continue\n",
    "\n",
    "    elections.append(election_name)\n",
    "    \n",
    "    profiles.append(ProfileWithTies.read(fname))\n",
    "    \n",
    "for fname in tqdm(glob.glob(\"real_elections/preflib_dataset/*.toi\")):\n",
    "\n",
    "    election_name = fname.split(\"/\")[-1].split(\".\")[0]\n",
    "\n",
    "    if election_name in elections: \n",
    "        continue\n",
    "\n",
    "    elections.append(election_name)\n",
    "    profiles.append(ProfileWithTies.read(fname))\n",
    "\n",
    "for fname in tqdm(glob.glob(\"real_elections/preflib_dataset/*.toc\")):\n",
    "\n",
    "    election_name = fname.split(\"/\")[-1].split(\".\")[0]\n",
    "\n",
    "    if election_name in elections: \n",
    "        continue\n",
    "\n",
    "    elections.append(election_name)\n",
    "\n",
    "    elections.append(election_name)\n",
    "    profiles.append(ProfileWithTies.read(fname))"
   ]
  },
  {
   "cell_type": "code",
   "execution_count": null,
   "id": "d964a2a9",
   "metadata": {},
   "outputs": [],
   "source": [
    "for prof in tqdm(profiles):\n",
    "\n",
    "    found_tie = False\n",
    "\n",
    "    # Treat all unranked candidates as tied at the bottom of a ranking\n",
    "    prof.use_extended_strict_preference()\n",
    "    winners = proposed_method(prof)\n",
    "\n",
    "    if len(winners) > 1:\n",
    "        found_tie = True\n",
    "        print(\"Tie in election!\")\n",
    "\n",
    "if not found_tie:\n",
    "    print(\"No ties found.\")"
   ]
  },
  {
   "cell_type": "markdown",
   "id": "900c41e9",
   "metadata": {},
   "source": [
    "## Otis 2022 dataset"
   ]
  },
  {
   "cell_type": "code",
   "execution_count": null,
   "id": "7d363482",
   "metadata": {},
   "outputs": [],
   "source": [
    "# This will take about 15 minutes to run\n",
    "\n",
    "items_to_skip = [\n",
    "    'skipped', \n",
    "    'overvote', \n",
    "    'undervote']\n",
    "\n",
    "profiles = []\n",
    "\n",
    "for file in tqdm(glob.glob(\"real_elections/otis_2022_dataset/*.zip\")):\n",
    "\n",
    "    if not file.endswith(\".csv\") and not file.endswith(\".zip\"):\n",
    "        continue\n",
    "    # if file ends with .zip unzip the file and process it \n",
    "    if file.endswith(\".zip\"):\n",
    "        with ZipFile(file, 'r') as zip_ref:\n",
    "            # Iterate through each file inside the zip\n",
    "            for name in zip_ref.namelist():\n",
    "                # Only process .csv files\n",
    "                if name.endswith(\".csv\"):\n",
    "                    with zip_ref.open(name) as f:\n",
    "                        # Read the CSV data into memory\n",
    "                        csv_bytes = f.read()\n",
    "                        # Decode bytes to string\n",
    "                        csv_text = csv_bytes.decode('utf-8')\n",
    "                        # Create a file-like StringIO object\n",
    "                        csv_buffer = io.StringIO(csv_text)\n",
    "                        \n",
    "                        # Now pass this StringIO to ProfileWithTies.read\n",
    "                        prof = ProfileWithTies.read(\n",
    "                            csv_buffer,\n",
    "                            file_format='csv',\n",
    "                            csv_format='rank_columns',\n",
    "                            items_to_skip=items_to_skip\n",
    "                        )\n",
    "                        profiles.append(prof)"
   ]
  },
  {
   "cell_type": "code",
   "execution_count": null,
   "id": "cd2898c7",
   "metadata": {},
   "outputs": [],
   "source": [
    "for prof in tqdm(profiles):\n",
    "\n",
    "    found_tie = False\n",
    "\n",
    "    # Treat all unranked candidates as tied at the bottom of a ranking\n",
    "    prof.use_extended_strict_preference()\n",
    "    winners = proposed_method(prof)\n",
    "\n",
    "    if len(winners) > 1:\n",
    "        found_tie = True\n",
    "        print(\"Tie in election!\")\n",
    "\n",
    "if not found_tie:\n",
    "    print(\"No ties found.\")"
   ]
  }
 ],
 "metadata": {
  "kernelspec": {
   "display_name": "Python 3.9.9 64-bit",
   "language": "python",
   "name": "python3"
  },
  "language_info": {
   "codemirror_mode": {
    "name": "ipython",
    "version": 3
   },
   "file_extension": ".py",
   "mimetype": "text/x-python",
   "name": "python",
   "nbconvert_exporter": "python",
   "pygments_lexer": "ipython3",
   "version": "3.10.15"
  },
  "vscode": {
   "interpreter": {
    "hash": "b0fa6594d8f4cbf19f97940f81e996739fb7646882a419484c72d19e05852a7e"
   }
  }
 },
 "nbformat": 4,
 "nbformat_minor": 5
}
